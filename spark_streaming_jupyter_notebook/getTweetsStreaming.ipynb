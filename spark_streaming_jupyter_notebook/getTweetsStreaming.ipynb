{
 "cells": [
  {
   "cell_type": "markdown",
   "id": "463388c5-1c3e-4842-b4b8-df120f615b47",
   "metadata": {
    "tags": []
   },
   "source": [
    "# **Get Tweets in Real Time using Twitter API**"
   ]
  },
  {
   "cell_type": "markdown",
   "id": "228c68ee-07c6-4a23-b62b-f41a904a8bec",
   "metadata": {},
   "source": [
    "We are using Tweepy library to route all the Live tweets to socket server.\n",
    "<br> This server is hosted in Cloud."
   ]
  },
  {
   "cell_type": "markdown",
   "id": "e93de590-66ea-4714-9f51-eab951f38985",
   "metadata": {},
   "source": [
    "Import tweepy library"
   ]
  },
  {
   "cell_type": "code",
   "execution_count": 1,
   "id": "77cd8adc-d1a2-4869-88eb-f9759bdf9676",
   "metadata": {},
   "outputs": [],
   "source": [
    "import tweepy"
   ]
  },
  {
   "cell_type": "markdown",
   "id": "9a15f112-8880-4bb3-a975-ccb845a0e4a0",
   "metadata": {},
   "source": [
    "Import OAuthHandler.\n",
    "<br>It is used for Authentication protocol (OAuth) of Twitter API."
   ]
  },
  {
   "cell_type": "code",
   "execution_count": 2,
   "id": "7ba9c6da-d6a8-4f7b-ac09-d03e102b13d2",
   "metadata": {},
   "outputs": [],
   "source": [
    "# from tweepy import OAuthHandler"
   ]
  },
  {
   "cell_type": "markdown",
   "id": "ecae9718-a000-401d-814d-a8ee06101630",
   "metadata": {},
   "source": [
    "Import Stream & StreamListner\n",
    "<br>This actually listen to streaming data getting from the socket"
   ]
  },
  {
   "cell_type": "code",
   "execution_count": 3,
   "id": "7704be73-1f1b-439a-92d4-1dcdd55f65e2",
   "metadata": {},
   "outputs": [],
   "source": [
    "# from tweepy import Stream \n",
    "# from tweepy.streamin import StreamListener\n",
    "from tweepy.asynchronous import AsyncStream"
   ]
  },
  {
   "cell_type": "markdown",
   "id": "bb003764-2fba-4606-afdf-fe3cb576e165",
   "metadata": {},
   "source": [
    "Import socket. It is used to create socket connection with Localhost i.e. local sercer.\n",
    "<br>Json is used because tweeter data comes in json format."
   ]
  },
  {
   "cell_type": "code",
   "execution_count": 4,
   "id": "3ba47580-c04b-4796-bd2c-ca7974d8a800",
   "metadata": {},
   "outputs": [],
   "source": [
    "import socket\n",
    "import json"
   ]
  },
  {
   "cell_type": "markdown",
   "id": "cdd77306-ca04-4dc5-91b2-78781ec898e5",
   "metadata": {},
   "source": [
    "To connect to Twitter API, we need these 4 Keys."
   ]
  },
  {
   "cell_type": "code",
   "execution_count": 5,
   "id": "139e1e2c-a126-4567-9ed4-a0bdfd9b1556",
   "metadata": {},
   "outputs": [
    {
     "data": {
      "text/plain": [
       "True"
      ]
     },
     "execution_count": 5,
     "metadata": {},
     "output_type": "execute_result"
    }
   ],
   "source": [
    "import os\n",
    "from dotenv import load_dotenv\n",
    "load_dotenv() # take environment variables from .env"
   ]
  },
  {
   "cell_type": "code",
   "execution_count": 6,
   "id": "ae5b1feb-0734-4775-9e6a-c7d492e06eff",
   "metadata": {},
   "outputs": [],
   "source": [
    "consumer_key = os.getenv(\"consumer_key\")\n",
    "consumer_secret = os.getenv(\"consumer_secret\")\n",
    "access_token = os.getenv(\"access_token\")\n",
    "access_token_secret = os.getenv(\"access_token_secret\")"
   ]
  },
  {
   "cell_type": "markdown",
   "id": "f8bbab85-454e-4508-a67c-df2c44db179e",
   "metadata": {},
   "source": [
    "### Class TweetsListner\n",
    "1. It is listening to the stream via StreamListener.\n",
    "2. constructor function (init) : initializing the socket.\n",
    "3. data contains the tweets json coming from the stream.\n",
    "4. In this json object field 'text' contains the actual Tweet.\n",
    "5. The actual tweet is extracted & sent to the client socket.\n",
    "6. Error handling is done to catch & throw errors."
   ]
  },
  {
   "cell_type": "code",
   "execution_count": 7,
   "id": "d79b61ed-972c-47ac-9eaa-ab83a6824289",
   "metadata": {},
   "outputs": [],
   "source": [
    "class TweetsListener(AsyncStream):\n",
    "    def __init__(self, consumer_key, consumer_secret, access_token, access_token_secret, csocket):\n",
    "        self.client_socket = csocket\n",
    "        super().__init__(consumer_key, consumer_secret, access_token, access_token_secret)\n",
    "        \n",
    "    async def on_data(self, raw_data):\n",
    "        try:\n",
    "            msg = json.loads(raw_data)\n",
    "            \n",
    "            # print(msg['text'].encode('utf-8'))\n",
    "            # print(msg['created_at'].encode('utf-8'))\n",
    "            output = json.dumps(msg['text'], ensure_ascii=False)\n",
    "            print(output)\n",
    "            \n",
    "            self.client_socket.send(msg['text'].encode('utf-8'))\n",
    "            return True\n",
    "        except Exception as e:\n",
    "            print(\"Error on_data: %s\" % str(e))\n",
    "        return True\n",
    "    \n",
    "    async def on_status(self, status):\n",
    "        print(status.text)\n",
    "        \n",
    "    # def on_error(self, status):\n",
    "    #     print(status)\n",
    "    #     return True"
   ]
  },
  {
   "cell_type": "markdown",
   "id": "3e79925d-cb41-4be7-a06a-10e5296e4a7c",
   "metadata": {},
   "source": [
    "### Functio SendData():\n",
    "1. auth is doing Authentication check using OAuthHandler. It uses 4 keys of Twitter APIs.\n",
    "2. consumer_key & consumer_secret are like username & access_access_token & access_secret are like password.\n",
    "3. twitter_stream will get the actual twitter live stream data.\n",
    "4. It'll call Stream with auth & call the Class TweetsListner & pass c_socket info to the class.\n",
    "5. Fromt he stream of tweets, filter & take only tweets which contains \"Trunp\" word."
   ]
  },
  {
   "cell_type": "code",
   "execution_count": 8,
   "id": "1b32e18e-8156-4b47-9757-8340bf8518d7",
   "metadata": {},
   "outputs": [],
   "source": [
    "def sendData(c_socket): # c_socket or client socket\n",
    "    twitter_stream = TweetsListener(consumer_key, consumer_secret, access_token, access_token_secret, c_socket)\n",
    "    twitter_stream.filter(track=['BJP'])\n",
    "#     auth = OAuthHandler(consumer_key, consumer_secret)\n",
    "#     auth.set_access_token(access_token, access_token_secret)\n",
    "    \n",
    "#     twitter_stream = Stream(auth, TweetsListener(c_socket)) \n",
    "#     twitter_stream.filter(track=['BTS'])    "
   ]
  },
  {
   "cell_type": "markdown",
   "id": "051d1e31-fd35-4048-8d20-7862cb32daeb",
   "metadata": {},
   "source": [
    "### Socket Creation:\n",
    "1. Socket is created by using socket function\n",
    "2. Host is localhost, which is our case is IP of where this Jupyter notebook is running.\n",
    "3. Port is 5555 (It can be anything, unique for this service)\n",
    "4. Now bind host & port address to the socket.\n"
   ]
  },
  {
   "cell_type": "code",
   "execution_count": 9,
   "id": "b393d5f4-493d-47c4-b390-9bbdcc568f68",
   "metadata": {},
   "outputs": [
    {
     "name": "stdout",
     "output_type": "stream",
     "text": [
      "Listening on port: 6677\n"
     ]
    }
   ],
   "source": [
    "#if __name__ == \"__main__\":\n",
    "s = socket.socket()     # Create a socket object\n",
    "host = '172.16.117.15'  # Get local machine name\n",
    "port = 6677             # Reserce a port for your service\n",
    "s.bind((host, port))    # Bind to the port\n",
    "print(\"Listening on port: %s\" % str(port))"
   ]
  },
  {
   "cell_type": "markdown",
   "id": "a05c6923-901a-442d-96c1-b65608aebadd",
   "metadata": {},
   "source": [
    "socket will wait & listen for few seconds.\n",
    "<br>After that connection is made."
   ]
  },
  {
   "cell_type": "code",
   "execution_count": 10,
   "id": "2f094a1e-cc2e-4ec5-901d-0c4eaebb33de",
   "metadata": {},
   "outputs": [
    {
     "name": "stdout",
     "output_type": "stream",
     "text": [
      "Recived request from: ('172.16.117.15', 49166)\n"
     ]
    }
   ],
   "source": [
    "s.listen(5)            # Now wait for client connection.\n",
    "c, addr = s.accept()   # Establish connection with client.\n",
    "print(\"Recived request from: \" + str(addr))"
   ]
  },
  {
   "cell_type": "markdown",
   "id": "7bd97db5-4a76-4870-ae54-88e595ec7b4b",
   "metadata": {},
   "source": [
    "## Send live Tweets in real time to the Socket\n",
    "Function sendData will send all Tweets containing word 'Trump' to socket 'c' in real time.\n",
    "<br>This will be consumed in the next code of Spark Streaming to do Trend Analysis."
   ]
  },
  {
   "cell_type": "code",
   "execution_count": 11,
   "id": "802cd655-4d35-4d3f-b2e9-1c096eff40d2",
   "metadata": {},
   "outputs": [],
   "source": [
    "sendData(c)"
   ]
  },
  {
   "cell_type": "code",
   "execution_count": 12,
   "id": "02277d23-ae07-4bff-b7df-767215b7de63",
   "metadata": {},
   "outputs": [
    {
     "name": "stdout",
     "output_type": "stream",
     "text": [
      "\"RT @kapsology: 4 Delhi schools are in the top 10 government schools in India\\n\\nZERO from any BJP ruled state https://t.co/p4fHIUwgvC\"\n",
      "\"RT @sangram_enm: Perfect prey for BJP\"\n",
      "\"RT @_narsinghshukla: “SELL INDIA CAMPAIGN” of BJP Govt!\\n\\nमोदी सरकार का “भारत बेचो अभियान” !\\n\\nNOW ON SALE -:\\n\\n• Bharat Earth Movers Ltd.\\n• S…\"\n",
      "\"RT @rssurjewala: “SELL INDIA CAMPAIGN” of BJP Govt!\\n\\nमोदी सरकार का “भारत बेचो अभियान” !\\n\\nNOW ON SALE -:\\n\\n• Bharat Earth Movers Ltd.\\n• Shipp…\"\n",
      "\"RT @NewsArenaIndia: Telangana News\\n\\nTRS CM, MLAs &amp; MPs will protest against PM Narendra Modi today at Dharna Chowk.\\n\\nThe more they protest…\"\n",
      "\"RT @DhoteAnup09: अनिल देशमुख की गिरफ्तारी पर शरद पवार का फूटा गुस्सा, BJP से बोले- हर दिन, हर घंटे की कीमत वसूलेंगे https://t.co/RGIk2UT0Tp…\"\n",
      "\"RT @AleemIlahi: BJP trying to steal mandate illegally, responsibility on Secular parties to join hands and stop it in Gulbarga Mahanagara P…\"\n",
      "\"@kpmaurya1 Bjp hatao desh bachao\"\n",
      "\"Aap bjp ke liye bhut achha kaam kare rehe aap bhut achhe hai neta hai..\\nHappy Birthday sir\\n#आपणो_अशोक_सैनी https://t.co/A3Olfq4UKF\"\n",
      "\"வாய கொடுத்து புண்ணாக்குறது இது தான்.\"\n",
      "\"RT @dhruv_rathee: Conclusion: \\n\\nWhen Congress is in power, you are free to talk about problems facing India\\n\\nWhen BJP is in power, you will…\"\n",
      "\"RT @cashcoveboy: Who is Shriramulu ಅಂತ ಕೇಳೊ ದಲಿತರು ಲಕ್ಷಗಟ್ಟಲೆ ಇದ್ದಾರೆ. ನಿಮ್ಮ ಅಜೆಂಡಾನೂ ಅರ್ಥ ಆಗಿದೆ.. ಚರ್ಚೆ ಮಾಡೋಣ ಕೆಲಸ ಮುಗಿಸಿ.\"\n",
      "\"RT @dnetta: My heartiest congratulations to Smt. Beena shantaram Naik Ji on her appointment as President of  Goa Pradesh Mahila Congress. I…\"\n",
      "\"RT @Brahamvakya: I can also guarantee that @narendramodi Ji knows that BJP gets ZERO Muslim votes. From Shivala to Madanpura, we barely got…\"\n",
      "\"`Wave of change` in Uttar Pradesh will `wipe out` BJP in 2022 Assembly polls: Samajwadi Party president Akhilesh Ya… https://t.co/wqf3X5ZGo2\"\n",
      "\"RT @therealnisha1: Rajasthan ke yuvao ji aawaj bjp rajasthan ke Pradesh mantri ashok saini ji ko janmdin ki haardik shubhkamnaye #आपणो_अशोक…\"\n",
      "\"RT @Interceptors: 2016 जैसी परिवर्तन यात्रा के तर्ज पर BJP इस बार भी 4 बड़े यात्रा निकालने को योजना बना रही है।\"\n",
      "\"RT @news24tvchannel: अनिल देशमुख की गिरफ्तारी पर शरद पवार की BJP को चेतावनी- \\n\\n'हर दिन, हर घंटे की कीमत वसूलेंगे, तुम कितने भी छापे मार लो,…\"\n",
      "\"RT @KeshariPunam: इन पाकिस्तान परस्त बेवकूफो से पीछा छुड़ाने के लिए हर इलेक्शन में BJP को वोट देना जरूरी है।\\nयही अटल सत्य है...🙏♥️ https://…\"\n",
      "\"RT @KilaFateh: True democracy works like this, useless to expect this in India where parliament is not allowed to function by the bjp govt.\"\n",
      "\"RT @Dheerajmonga786: The BJP government had formed the government in the name of reducing inflation. Can we see what has happened now? Now…\"\n",
      "\"RT @GauravPandhi: Gurudwaras and Hindus have opened their homes in Gurgaon for Muslims for namaz as the Sanghis have been trying to disrupt…\"\n",
      "\"RT @KeshariPunam: इन पाकिस्तान परस्त बेवकूफो से पीछा छुड़ाने के लिए हर इलेक्शन में BJP को वोट देना जरूरी है।\\nयही अटल सत्य है...🙏♥️ https://…\"\n",
      "\"RT @ThanthiTV: \\\"ஹெலிகாப்டரில் வெள்ளத்தை பார்ப்பவர்கள்...முதலமைச்சரை விமர்சிக்க தகுதி இல்லை\\\" - பாஜக தலைவருக்கு அமைச்சரின் பதிலடி\\n\\n#BJP #MKSt…\"\n",
      "\"RT @NewsArenaIndia: Uttar Pradesh News\\n\\nBJP’s Jatav leader Baby Rani Maurya said we will get 40% Jatav votes this time.\\n\\nJatavs are core vo…\"\n",
      "\"RT @vivek2_999: आज मैं पुनः देश भर के BJP &amp; RSS कार्यकर्ताओं से जुड़ना चाहता हूँ  फॉलोबैक दे रहा हूँ \\n@vivek2_999\\n@Shwetad82224002\\n@iakasra…\"\n",
      "\"RT @Rajlakshmiyadav: Bye Bye BJP🔜 @yadavakhilesh   @yadavteju https://t.co/GxA6AmiyIk\"\n",
      "\"RT @ANI: Former Mumbai CP (Param Bir Singh), after making allegations against him (former Home Minister Anil Deshmukh) has gone absconding…\"\n",
      "\"@RajDannees @abhishekvs2298 @PachuThoughts und... ayaal bjp aanenn arinja shesham aarelum enthelum cheyithitt undo?… https://t.co/GqKtqmBSZi\"\n",
      "\"RT @AsanNishant: Mein nhi maanta aaj tak ki news ko, BJP channel h sbko pta h: independent party supporter from UKD\"\n",
      "\"RT @ndtv: #UttarPradesh | \\\"Want BJP Wiped Out,\\\" Says Akhilesh Yadav, Doesn't Rule Out Contesting \\n\\nRead more: https://t.co/JTQEWgliMz https…\"\n",
      "\"@rajnathsingh Ur great leader in bjp I pary to god god bless you always\"\n",
      "\"Happy Birthday sir ji, aap life main achha kaam karte raho bjp ke liye and Janta ke liye..  \\n#आपणो_अशोक_सैनी https://t.co/QQnlXMw7lG\"\n",
      "\"RT @TV9Marathi: 'ऊन, वारा आणि आज तर पावसाला तोंड देत एसटी कर्मचारी आस लावून, त्यांच्याकडे लक्ष द्याल का?' https://t.co/xoVYV5FSuz @Dev_Fadn…\"\n",
      "\"RT @news24tvchannel: अनिल देशमुख की गिरफ्तारी पर शरद पवार की BJP को चेतावनी- \\n\\n'हर दिन, हर घंटे की कीमत वसूलेंगे, तुम कितने भी छापे मार लो,…\"\n",
      "\"RT @PoliticsMedi: Dilip Ghosh co-chaired a meeting along with Suvendu Adhikari with all BJP MLAs present to talk about strategy against TMC…\"\n",
      "\"RT @Dev_Fadnavis: Attended and addressed on organisational subjects at a meeting of @BJP4Mumbai Mandal and Ward Presidents at Vasant Smruti…\"\n",
      "\"RT @JuniorVikatan: பெட்ரோல் டீசல் விலை உயர்வைக் கண்டித்து பாஜக போராட்டம்! \\n\\n#Annamalai #Bjp https://t.co/dznmJowDO9\"\n",
      "\"RT @nawabmalikncp: Listen to this BJP MLA from Amravati\\nझूठ बोले कौआ काटे... https://t.co/7ch15MREqz\"\n",
      "\"RT @ManojMehtamm: This terrorism and hooliganism,\\nIs form of BJP's Nationalism !! \\n#भक्तों_का_बाप_गद्दार_है https://t.co/X98YiJricH\"\n",
      "\"RT @nawabmalikncp: Listen to this BJP MLA from Amravati\\nझूठ बोले कौआ काटे... https://t.co/7ch15MREqz\"\n",
      "\"RT @traveengupta: @subh_09910468 @RKTShukl1 मे बार बार लिख रहा हू अमीष आपकी की तो बड़ी तारिफ की है हमने पर आप भी यदि अपनी TRP के लिय एसे स…\"\n",
      "\"@myogiadityanath पर आपकी / RSS / BJP/ Modi/ Amit Shah जी की लाडली राष्ट्रवादी #कंगना_रनौत का कहना है या आप सब ने  उ… https://t.co/Q5UUiy9kTO\"\n",
      "Error on_data: [Errno 32] Broken pipe\n",
      "\"RT @erturulpaaji: #BJP se baap ka pyar to mila lekin maa ka nahi..\"\n",
      "Error on_data: [Errno 32] Broken pipe\n",
      "\"RT @SaidaiahBabuINC: In Uttar Pradesh, the well-organised BJP has been criticised for its handling of violence against women\\n#LadkiHoonLadS…\"\n",
      "Error on_data: [Errno 32] Broken pipe\n",
      "\"RT @news24tvchannel: अनिल देशमुख की गिरफ्तारी पर शरद पवार की BJP को चेतावनी- \\n\\n'हर दिन, हर घंटे की कीमत वसूलेंगे, तुम कितने भी छापे मार लो,…\"\n",
      "Error on_data: [Errno 32] Broken pipe\n",
      "\"RT @SaidaiahBabuINC: PM Modi is desperately trying to market a failed product that is BJP UP government due to afraid of Priyanka Gandhi ji…\"\n",
      "Error on_data: [Errno 32] Broken pipe\n",
      "\"RT @ndtv: .@OnReality_Check | \\\"#BJP's JAM stands for Jhoot, Ahankar, Mehengai; my comments on Jinnah were twisted,\\\" says Akhilesh Yadav (@y…\"\n",
      "Error on_data: [Errno 32] Broken pipe\n",
      "\"RT @Ishwarp07537935: A retired high court judge is appointed to investigate Lakhimpur Kheri murders . When all the evidences are against mo…\"\n",
      "Error on_data: [Errno 32] Broken pipe\n",
      "\"RT @news24tvchannel: अनिल देशमुख की गिरफ्तारी पर शरद पवार की BJP को चेतावनी- \\n\\n'हर दिन, हर घंटे की कीमत वसूलेंगे, तुम कितने भी छापे मार लो,…\"\n",
      "Error on_data: [Errno 32] Broken pipe\n",
      "\"RT @MiliS62751908: #INDvNZ #1DayToIncarnationDay #FarmLaws_InjusticeByModi #StandUpForIndia #Metooindia  #VirDasInsultsIndia #BJP  #VirDasI…\"\n",
      "Error on_data: [Errno 32] Broken pipe\n",
      "\"RT @AsianetNewsTM: Jai Bhim: இப்படியே தமிழ் கலாசாரம், பண்பாட்டை குறி வைச்சு தாக்குவீங்களா.? சூர்யாவைப் போட்டுத் தாக்கும் பாஜக.! #Jaibhim #A…\"\n",
      "Error on_data: [Errno 32] Broken pipe\n"
     ]
    }
   ],
   "source": [
    "# Call close method on the socket objects to release their resources\n",
    "# c.close()"
   ]
  },
  {
   "cell_type": "code",
   "execution_count": null,
   "id": "8ed36d64-f93a-44a2-8741-a9f01c638078",
   "metadata": {},
   "outputs": [],
   "source": []
  }
 ],
 "metadata": {
  "kernelspec": {
   "display_name": "Python 3",
   "language": "python",
   "name": "python3"
  },
  "language_info": {
   "codemirror_mode": {
    "name": "ipython",
    "version": 3
   },
   "file_extension": ".py",
   "mimetype": "text/x-python",
   "name": "python",
   "nbconvert_exporter": "python",
   "pygments_lexer": "ipython3",
   "version": "3.9.5"
  },
  "toc-autonumbering": false,
  "toc-showcode": true,
  "toc-showmarkdowntxt": true
 },
 "nbformat": 4,
 "nbformat_minor": 5
}
